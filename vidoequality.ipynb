{
 "cells": [
  {
   "cell_type": "code",
   "execution_count": 2,
   "metadata": {},
   "outputs": [
    {
     "name": "stdout",
     "output_type": "stream",
     "text": [
      "Average Blur (Laplacian Variance): 235.25\n",
      "Average Motion Magnitude: 1.10\n"
     ]
    }
   ],
   "source": [
    "import cv2\n",
    "import numpy as np\n",
    "\n",
    "def calculate_blur(image):\n",
    "    \"\"\" Calculate the inverse of the Laplacian variance to assess blur (larger values mean more blur). \"\"\"\n",
    "    gray = cv2.cvtColor(image, cv2.COLOR_BGR2GRAY)\n",
    "    laplacian_var = cv2.Laplacian(gray, cv2.CV_64F).var()\n",
    "\n",
    "    # Avoid division by zero\n",
    "    if laplacian_var == 0:\n",
    "        return float('inf')  # Very high blur if variance is zero\n",
    "    \n",
    "    # Invert the Laplacian variance\n",
    "    blur_score = 1000 / laplacian_var\n",
    "    return blur_score\n",
    "\n",
    "\n",
    "def calculate_motion(video_path):\n",
    "    \"\"\" Calculate average motion in the video based on optical flow. \"\"\"\n",
    "    cap = cv2.VideoCapture(video_path)\n",
    "\n",
    "    if not cap.isOpened():\n",
    "        print(\"Error opening video file\")\n",
    "        return\n",
    "\n",
    "    ret, prev_frame = cap.read()\n",
    "    if not ret:\n",
    "        print(\"Failed to read the first frame\")\n",
    "        return\n",
    "\n",
    "    prev_gray = cv2.cvtColor(prev_frame, cv2.COLOR_BGR2GRAY)\n",
    "    motion_values = []\n",
    "\n",
    "    while True:\n",
    "        ret, frame = cap.read()\n",
    "        if not ret:\n",
    "            break\n",
    "\n",
    "        curr_gray = cv2.cvtColor(frame, cv2.COLOR_BGR2GRAY)\n",
    "        flow = cv2.calcOpticalFlowFarneback(prev_gray, curr_gray, None, 0.5, 3, 15, 3, 5, 1.2, 0)\n",
    "        magnitude, _ = cv2.cartToPolar(flow[..., 0], flow[..., 1])\n",
    "        avg_magnitude = np.mean(magnitude)\n",
    "        motion_values.append(avg_magnitude)\n",
    "\n",
    "        prev_gray = curr_gray\n",
    "\n",
    "    cap.release()\n",
    "\n",
    "    overall_motion = np.mean(motion_values)\n",
    "    return overall_motion\n",
    "\n",
    "def evaluate_video_quality(video_path):\n",
    "    \"\"\" Evaluate the visual quality of the video based on blur and motion. \"\"\"\n",
    "    cap = cv2.VideoCapture(video_path)\n",
    "\n",
    "    if not cap.isOpened():\n",
    "        print(\"Error opening video file\")\n",
    "        return\n",
    "\n",
    "    blur_values = []\n",
    "    frame_count = 0\n",
    "\n",
    "    while True:\n",
    "        ret, frame = cap.read()\n",
    "        if not ret:\n",
    "            break\n",
    "\n",
    "        blur = calculate_blur(frame)\n",
    "        blur_values.append(blur)\n",
    "        frame_count += 1\n",
    "\n",
    "    cap.release()\n",
    "\n",
    "    overall_blur = np.mean(blur_values)\n",
    "    overall_motion = calculate_motion(video_path)\n",
    "\n",
    "    print(f\"Average Blur (Laplacian Variance): {overall_blur:.2f}\")\n",
    "    print(f\"Average Motion Magnitude: {overall_motion:.2f}\")\n",
    "\n",
    "# Example usage\n",
    "\n",
    "video_path = '/mnt/datascience3/Boya/bouyang/surgery-propainter/impanted-video/pig9/inpaint_out.mp4'\n",
    "evaluate_video_quality(video_path)\n"
   ]
  },
  {
   "cell_type": "code",
   "execution_count": 2,
   "metadata": {},
   "outputs": [
    {
     "name": "stdout",
     "output_type": "stream",
     "text": [
      "Average Blur (Laplacian Variance): 256.24\n",
      "Average Motion Magnitude: 0.88\n"
     ]
    }
   ],
   "source": [
    "video_path = '/mnt/datascience3/Boya/bouyang/surgery-propainter/impanted-video-instru_blood.mp4/pig9/inpaint_out.mp4'\n",
    "evaluate_video_quality(video_path)"
   ]
  },
  {
   "cell_type": "code",
   "execution_count": 3,
   "metadata": {},
   "outputs": [
    {
     "name": "stdout",
     "output_type": "stream",
     "text": [
      "Average Blur (Laplacian Variance): 256.23\n",
      "Average Motion Magnitude: 1.10\n"
     ]
    }
   ],
   "source": [
    "video_path = '/mnt/datascience3/Boya/bouyang/surgery-propainter/pig9.mp4'\n",
    "evaluate_video_quality(video_path)"
   ]
  },
  {
   "cell_type": "code",
   "execution_count": 5,
   "metadata": {},
   "outputs": [
    {
     "name": "stdout",
     "output_type": "stream",
     "text": [
      "Average Blur (Laplacian Variance): 950.89\n",
      "Average Motion Magnitude: 3.54\n"
     ]
    }
   ],
   "source": [
    "video_path = '/mnt/datascience3/Boya/bouyang/Seeking_10_288_375.mp4'\n",
    "evaluate_video_quality(video_path)"
   ]
  },
  {
   "cell_type": "code",
   "execution_count": 3,
   "metadata": {},
   "outputs": [
    {
     "name": "stdout",
     "output_type": "stream",
     "text": [
      "Average Blur (Laplacian Variance): 1712.50\n",
      "Average Motion Magnitude: 12.86\n"
     ]
    }
   ],
   "source": [
    "video_path = '/mnt/datascience3/Boya/bouyang/output_video_task.mp4'\n",
    "evaluate_video_quality(video_path)"
   ]
  },
  {
   "cell_type": "code",
   "execution_count": null,
   "metadata": {},
   "outputs": [
    {
     "name": "stdout",
     "output_type": "stream",
     "text": [
      "\n",
      "Collecting usage statistics. To deactivate, set browser.gatherUsageStats to false.\n",
      "\u001b[0m\n",
      "\u001b[0m\n",
      "\u001b[34m\u001b[1m  You can now view your Streamlit app in your browser.\u001b[0m\n",
      "\u001b[0m\n",
      "\u001b[34m  Local URL: \u001b[0m\u001b[1mhttp://localhost:8502\u001b[0m\n",
      "\u001b[34m  Network URL: \u001b[0m\u001b[1mhttp://10.20.10.37:8502\u001b[0m\n",
      "\u001b[34m  External URL: \u001b[0m\u001b[1mhttp://12.251.228.10:8502\u001b[0m\n",
      "\u001b[0m\n"
     ]
    }
   ],
   "source": [
    "!streamlit run video_q.py"
   ]
  },
  {
   "cell_type": "code",
   "execution_count": null,
   "metadata": {},
   "outputs": [],
   "source": []
  }
 ],
 "metadata": {
  "kernelspec": {
   "display_name": "surgery",
   "language": "python",
   "name": "python3"
  },
  "language_info": {
   "codemirror_mode": {
    "name": "ipython",
    "version": 3
   },
   "file_extension": ".py",
   "mimetype": "text/x-python",
   "name": "python",
   "nbconvert_exporter": "python",
   "pygments_lexer": "ipython3",
   "version": "undefined.undefined.undefined"
  }
 },
 "nbformat": 4,
 "nbformat_minor": 2
}
